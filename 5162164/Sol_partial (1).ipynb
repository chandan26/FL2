{
 "cells": [
  {
   "cell_type": "code",
   "execution_count": 1,
   "metadata": {},
   "outputs": [
    {
     "data": {
      "text/html": [
       "<div>\n",
       "<style scoped>\n",
       "    .dataframe tbody tr th:only-of-type {\n",
       "        vertical-align: middle;\n",
       "    }\n",
       "\n",
       "    .dataframe tbody tr th {\n",
       "        vertical-align: top;\n",
       "    }\n",
       "\n",
       "    .dataframe thead th {\n",
       "        text-align: right;\n",
       "    }\n",
       "</style>\n",
       "<table border=\"1\" class=\"dataframe\">\n",
       "  <thead>\n",
       "    <tr style=\"text-align: right;\">\n",
       "      <th></th>\n",
       "      <th>order_id</th>\n",
       "      <th>customer_id</th>\n",
       "      <th>date</th>\n",
       "      <th>nearest_warehouse</th>\n",
       "      <th>shopping_cart</th>\n",
       "      <th>order_price</th>\n",
       "      <th>delivery_charges</th>\n",
       "      <th>customer_lat</th>\n",
       "      <th>customer_long</th>\n",
       "      <th>coupon_discount</th>\n",
       "      <th>order_total</th>\n",
       "      <th>season</th>\n",
       "      <th>is_expedited_delivery</th>\n",
       "      <th>distance_to_nearest_warehouse</th>\n",
       "      <th>latest_customer_review</th>\n",
       "      <th>is_happy_customer</th>\n",
       "    </tr>\n",
       "  </thead>\n",
       "  <tbody>\n",
       "    <tr>\n",
       "      <th>0</th>\n",
       "      <td>ORD459960</td>\n",
       "      <td>ID2005895258</td>\n",
       "      <td>2019-07-05</td>\n",
       "      <td>Nickolson</td>\n",
       "      <td>[('Lucent 330S', 2), ('Thunder line', 2)]</td>\n",
       "      <td>6820.0</td>\n",
       "      <td>85.54</td>\n",
       "      <td>-37.802247</td>\n",
       "      <td>144.965929</td>\n",
       "      <td>5</td>\n",
       "      <td>6564.54</td>\n",
       "      <td>Winter</td>\n",
       "      <td>True</td>\n",
       "      <td>1.8475</td>\n",
       "      <td>five stars brand new product, it arrived on ti...</td>\n",
       "      <td>1.0</td>\n",
       "    </tr>\n",
       "    <tr>\n",
       "      <th>1</th>\n",
       "      <td>ORD303713</td>\n",
       "      <td>ID0634783954</td>\n",
       "      <td>2019-11-23</td>\n",
       "      <td>NaN</td>\n",
       "      <td>[('pearTV', 1), ('Toshika 750', 2)]</td>\n",
       "      <td>14950.0</td>\n",
       "      <td>100.51</td>\n",
       "      <td>-37.813333</td>\n",
       "      <td>144.937528</td>\n",
       "      <td>25</td>\n",
       "      <td>11313.01</td>\n",
       "      <td>Spring</td>\n",
       "      <td>True</td>\n",
       "      <td>0.8423</td>\n",
       "      <td>five stars as expected and promised</td>\n",
       "      <td>1.0</td>\n",
       "    </tr>\n",
       "    <tr>\n",
       "      <th>2</th>\n",
       "      <td>ORD458495</td>\n",
       "      <td>ID1492410161</td>\n",
       "      <td>2019-08-14</td>\n",
       "      <td>Thompson</td>\n",
       "      <td>[('Candle Inferno', 2), ('Olivia x460', 2)]</td>\n",
       "      <td>3310.0</td>\n",
       "      <td>82.60</td>\n",
       "      <td>-37.802831</td>\n",
       "      <td>144.963626</td>\n",
       "      <td>5</td>\n",
       "      <td>3227.10</td>\n",
       "      <td>Winter</td>\n",
       "      <td>True</td>\n",
       "      <td>1.8223</td>\n",
       "      <td>five stars phone worked very well</td>\n",
       "      <td>1.0</td>\n",
       "    </tr>\n",
       "    <tr>\n",
       "      <th>3</th>\n",
       "      <td>ORD136217</td>\n",
       "      <td>ID0846568273</td>\n",
       "      <td>2019-04-07</td>\n",
       "      <td>Nickolson</td>\n",
       "      <td>[('Candle Inferno', 2), ('pearTV', 2)]</td>\n",
       "      <td>13480.0</td>\n",
       "      <td>78.81</td>\n",
       "      <td>-37.821078</td>\n",
       "      <td>144.969100</td>\n",
       "      <td>10</td>\n",
       "      <td>12210.81</td>\n",
       "      <td>Autumn</td>\n",
       "      <td>True</td>\n",
       "      <td>0.2792</td>\n",
       "      <td>so far so good this product has been working g...</td>\n",
       "      <td>1.0</td>\n",
       "    </tr>\n",
       "    <tr>\n",
       "      <th>4</th>\n",
       "      <td>ORD250948</td>\n",
       "      <td>ID0247028736</td>\n",
       "      <td>2019-01-07</td>\n",
       "      <td>NaN</td>\n",
       "      <td>[('Universe Note', 1), ('Alcon 10', 1)]</td>\n",
       "      <td>12400.0</td>\n",
       "      <td>66.12</td>\n",
       "      <td>-37.816181</td>\n",
       "      <td>144.970351</td>\n",
       "      <td>15</td>\n",
       "      <td>10606.12</td>\n",
       "      <td>Summer</td>\n",
       "      <td>False</td>\n",
       "      <td>0.2778</td>\n",
       "      <td>wow, amazing bargin! when this amazing quad co...</td>\n",
       "      <td>1.0</td>\n",
       "    </tr>\n",
       "  </tbody>\n",
       "</table>\n",
       "</div>"
      ],
      "text/plain": [
       "    order_id   customer_id        date nearest_warehouse  \\\n",
       "0  ORD459960  ID2005895258  2019-07-05         Nickolson   \n",
       "1  ORD303713  ID0634783954  2019-11-23               NaN   \n",
       "2  ORD458495  ID1492410161  2019-08-14          Thompson   \n",
       "3  ORD136217  ID0846568273  2019-04-07         Nickolson   \n",
       "4  ORD250948  ID0247028736  2019-01-07               NaN   \n",
       "\n",
       "                                 shopping_cart  order_price  delivery_charges  \\\n",
       "0    [('Lucent 330S', 2), ('Thunder line', 2)]       6820.0             85.54   \n",
       "1          [('pearTV', 1), ('Toshika 750', 2)]      14950.0            100.51   \n",
       "2  [('Candle Inferno', 2), ('Olivia x460', 2)]       3310.0             82.60   \n",
       "3       [('Candle Inferno', 2), ('pearTV', 2)]      13480.0             78.81   \n",
       "4      [('Universe Note', 1), ('Alcon 10', 1)]      12400.0             66.12   \n",
       "\n",
       "   customer_lat  customer_long  coupon_discount  order_total  season  \\\n",
       "0    -37.802247     144.965929                5      6564.54  Winter   \n",
       "1    -37.813333     144.937528               25     11313.01  Spring   \n",
       "2    -37.802831     144.963626                5      3227.10  Winter   \n",
       "3    -37.821078     144.969100               10     12210.81  Autumn   \n",
       "4    -37.816181     144.970351               15     10606.12  Summer   \n",
       "\n",
       "   is_expedited_delivery  distance_to_nearest_warehouse  \\\n",
       "0                   True                         1.8475   \n",
       "1                   True                         0.8423   \n",
       "2                   True                         1.8223   \n",
       "3                   True                         0.2792   \n",
       "4                  False                         0.2778   \n",
       "\n",
       "                              latest_customer_review  is_happy_customer  \n",
       "0  five stars brand new product, it arrived on ti...                1.0  \n",
       "1                five stars as expected and promised                1.0  \n",
       "2                  five stars phone worked very well                1.0  \n",
       "3  so far so good this product has been working g...                1.0  \n",
       "4  wow, amazing bargin! when this amazing quad co...                1.0  "
      ]
     },
     "execution_count": 1,
     "metadata": {},
     "output_type": "execute_result"
    }
   ],
   "source": [
    "# Importing libraries\n",
    "import pandas as pd\n",
    "import numpy as np\n",
    "\n",
    "# Read csv file into a pandas dataframe\n",
    "df = pd.read_csv(\"31084524_missing_data.csv\")\n",
    "\n",
    "# Take a look at the first few rows\n",
    "df.head()"
   ]
  },
  {
   "cell_type": "code",
   "execution_count": 2,
   "metadata": {},
   "outputs": [],
   "source": [
    "df.isnull().sum().to_csv(\"file.csv\")"
   ]
  },
  {
   "cell_type": "code",
   "execution_count": 3,
   "metadata": {},
   "outputs": [],
   "source": [
    "df['order_price'].fillna((df['order_price'].mean()), inplace=True)"
   ]
  },
  {
   "cell_type": "code",
   "execution_count": 4,
   "metadata": {},
   "outputs": [
    {
     "data": {
      "text/plain": [
       "order_id                          0\n",
       "customer_id                       0\n",
       "date                              0\n",
       "nearest_warehouse                55\n",
       "shopping_cart                     0\n",
       "order_price                       0\n",
       "delivery_charges                 40\n",
       "customer_lat                      0\n",
       "customer_long                     0\n",
       "coupon_discount                   0\n",
       "order_total                      15\n",
       "season                            0\n",
       "is_expedited_delivery             0\n",
       "distance_to_nearest_warehouse    31\n",
       "latest_customer_review            0\n",
       "is_happy_customer                40\n",
       "dtype: int64"
      ]
     },
     "execution_count": 4,
     "metadata": {},
     "output_type": "execute_result"
    }
   ],
   "source": [
    "df.isnull().sum()"
   ]
  },
  {
   "cell_type": "code",
   "execution_count": 5,
   "metadata": {},
   "outputs": [],
   "source": [
    "df['order_total'].fillna((df['order_total'].mean()), inplace=True)"
   ]
  },
  {
   "cell_type": "code",
   "execution_count": 6,
   "metadata": {},
   "outputs": [
    {
     "data": {
      "text/plain": [
       "order_id                          0\n",
       "customer_id                       0\n",
       "date                              0\n",
       "nearest_warehouse                55\n",
       "shopping_cart                     0\n",
       "order_price                       0\n",
       "delivery_charges                 40\n",
       "customer_lat                      0\n",
       "customer_long                     0\n",
       "coupon_discount                   0\n",
       "order_total                       0\n",
       "season                            0\n",
       "is_expedited_delivery             0\n",
       "distance_to_nearest_warehouse    31\n",
       "latest_customer_review            0\n",
       "is_happy_customer                40\n",
       "dtype: int64"
      ]
     },
     "execution_count": 6,
     "metadata": {},
     "output_type": "execute_result"
    }
   ],
   "source": [
    "df.isnull().sum()"
   ]
  },
  {
   "cell_type": "code",
   "execution_count": 7,
   "metadata": {},
   "outputs": [],
   "source": [
    "df['delivery_charges'].fillna((df['delivery_charges'].mean()), inplace=True)"
   ]
  },
  {
   "cell_type": "code",
   "execution_count": 8,
   "metadata": {},
   "outputs": [
    {
     "data": {
      "text/plain": [
       "order_id                          0\n",
       "customer_id                       0\n",
       "date                              0\n",
       "nearest_warehouse                55\n",
       "shopping_cart                     0\n",
       "order_price                       0\n",
       "delivery_charges                  0\n",
       "customer_lat                      0\n",
       "customer_long                     0\n",
       "coupon_discount                   0\n",
       "order_total                       0\n",
       "season                            0\n",
       "is_expedited_delivery             0\n",
       "distance_to_nearest_warehouse    31\n",
       "latest_customer_review            0\n",
       "is_happy_customer                40\n",
       "dtype: int64"
      ]
     },
     "execution_count": 8,
     "metadata": {},
     "output_type": "execute_result"
    }
   ],
   "source": [
    "df.isnull().sum()"
   ]
  },
  {
   "cell_type": "code",
   "execution_count": 9,
   "metadata": {},
   "outputs": [],
   "source": [
    "df['is_happy_customer'].fillna((df['is_happy_customer'].mean()), inplace=True)"
   ]
  },
  {
   "cell_type": "code",
   "execution_count": 10,
   "metadata": {},
   "outputs": [
    {
     "data": {
      "text/plain": [
       "order_id                          0\n",
       "customer_id                       0\n",
       "date                              0\n",
       "nearest_warehouse                55\n",
       "shopping_cart                     0\n",
       "order_price                       0\n",
       "delivery_charges                  0\n",
       "customer_lat                      0\n",
       "customer_long                     0\n",
       "coupon_discount                   0\n",
       "order_total                       0\n",
       "season                            0\n",
       "is_expedited_delivery             0\n",
       "distance_to_nearest_warehouse    31\n",
       "latest_customer_review            0\n",
       "is_happy_customer                 0\n",
       "dtype: int64"
      ]
     },
     "execution_count": 10,
     "metadata": {},
     "output_type": "execute_result"
    }
   ],
   "source": [
    "df.isnull().sum()"
   ]
  },
  {
   "cell_type": "code",
   "execution_count": 11,
   "metadata": {},
   "outputs": [],
   "source": [
    "df['distance_to_nearest_warehouse'].fillna((df['distance_to_nearest_warehouse'].mean()), inplace=True)"
   ]
  },
  {
   "cell_type": "code",
   "execution_count": 12,
   "metadata": {},
   "outputs": [
    {
     "data": {
      "text/plain": [
       "order_id                          0\n",
       "customer_id                       0\n",
       "date                              0\n",
       "nearest_warehouse                55\n",
       "shopping_cart                     0\n",
       "order_price                       0\n",
       "delivery_charges                  0\n",
       "customer_lat                      0\n",
       "customer_long                     0\n",
       "coupon_discount                   0\n",
       "order_total                       0\n",
       "season                            0\n",
       "is_expedited_delivery             0\n",
       "distance_to_nearest_warehouse     0\n",
       "latest_customer_review            0\n",
       "is_happy_customer                 0\n",
       "dtype: int64"
      ]
     },
     "execution_count": 12,
     "metadata": {},
     "output_type": "execute_result"
    }
   ],
   "source": [
    "df.isnull().sum()"
   ]
  },
  {
   "cell_type": "code",
   "execution_count": 13,
   "metadata": {},
   "outputs": [
    {
     "data": {
      "text/plain": [
       "(500, 16)"
      ]
     },
     "execution_count": 13,
     "metadata": {},
     "output_type": "execute_result"
    }
   ],
   "source": [
    "df.shape"
   ]
  },
  {
   "cell_type": "code",
   "execution_count": 14,
   "metadata": {},
   "outputs": [
    {
     "data": {
      "text/plain": [
       "0      Nickolson\n",
       "1              0\n",
       "2       Thompson\n",
       "3      Nickolson\n",
       "4              0\n",
       "         ...    \n",
       "495    Nickolson\n",
       "496       Bakers\n",
       "497    Nickolson\n",
       "498     Thompson\n",
       "499    Nickolson\n",
       "Name: nearest_warehouse, Length: 500, dtype: object"
      ]
     },
     "execution_count": 14,
     "metadata": {},
     "output_type": "execute_result"
    }
   ],
   "source": [
    "df['nearest_warehouse'].fillna(0)"
   ]
  },
  {
   "cell_type": "code",
   "execution_count": 15,
   "metadata": {},
   "outputs": [
    {
     "data": {
      "text/plain": [
       "order_id                          0\n",
       "customer_id                       0\n",
       "date                              0\n",
       "nearest_warehouse                55\n",
       "shopping_cart                     0\n",
       "order_price                       0\n",
       "delivery_charges                  0\n",
       "customer_lat                      0\n",
       "customer_long                     0\n",
       "coupon_discount                   0\n",
       "order_total                       0\n",
       "season                            0\n",
       "is_expedited_delivery             0\n",
       "distance_to_nearest_warehouse     0\n",
       "latest_customer_review            0\n",
       "is_happy_customer                 0\n",
       "dtype: int64"
      ]
     },
     "execution_count": 15,
     "metadata": {},
     "output_type": "execute_result"
    }
   ],
   "source": [
    "df.isnull().sum()"
   ]
  },
  {
   "cell_type": "code",
   "execution_count": null,
   "metadata": {},
   "outputs": [],
   "source": []
  }
 ],
 "metadata": {
  "kernelspec": {
   "display_name": "Python 3",
   "language": "python",
   "name": "python3"
  },
  "language_info": {
   "codemirror_mode": {
    "name": "ipython",
    "version": 3
   },
   "file_extension": ".py",
   "mimetype": "text/x-python",
   "name": "python",
   "nbconvert_exporter": "python",
   "pygments_lexer": "ipython3",
   "version": "3.8.3"
  },
  "toc": {
   "base_numbering": 1,
   "nav_menu": {},
   "number_sections": true,
   "sideBar": true,
   "skip_h1_title": false,
   "title_cell": "Table of Contents",
   "title_sidebar": "Contents",
   "toc_cell": false,
   "toc_position": {},
   "toc_section_display": true,
   "toc_window_display": false
  },
  "varInspector": {
   "cols": {
    "lenName": 16,
    "lenType": 16,
    "lenVar": 40
   },
   "kernels_config": {
    "python": {
     "delete_cmd_postfix": "",
     "delete_cmd_prefix": "del ",
     "library": "var_list.py",
     "varRefreshCmd": "print(var_dic_list())"
    },
    "r": {
     "delete_cmd_postfix": ") ",
     "delete_cmd_prefix": "rm(",
     "library": "var_list.r",
     "varRefreshCmd": "cat(var_dic_list()) "
    }
   },
   "types_to_exclude": [
    "module",
    "function",
    "builtin_function_or_method",
    "instance",
    "_Feature"
   ],
   "window_display": false
  }
 },
 "nbformat": 4,
 "nbformat_minor": 4
}
