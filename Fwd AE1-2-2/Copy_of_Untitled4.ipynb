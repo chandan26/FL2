{
  "nbformat": 4,
  "nbformat_minor": 0,
  "metadata": {
    "colab": {
      "name": "Copy of Untitled4.ipynb",
      "provenance": [],
      "collapsed_sections": []
    },
    "kernelspec": {
      "name": "python3",
      "display_name": "Python 3"
    }
  },
  "cells": [
    {
      "cell_type": "code",
      "metadata": {
        "id": "fTykHU03BkM_",
        "outputId": "8530890f-0c5d-4ebb-86ee-fb15e7229732",
        "colab": {
          "base_uri": "https://localhost:8080/",
          "height": 34
        }
      },
      "source": [
        "from google.colab import drive\n",
        "drive.mount(\"/content/drive\")"
      ],
      "execution_count": null,
      "outputs": [
        {
          "output_type": "stream",
          "text": [
            "Mounted at /content/drive\n"
          ],
          "name": "stdout"
        }
      ]
    },
    {
      "cell_type": "code",
      "metadata": {
        "id": "IhyW37TfDD-U",
        "outputId": "16c9e115-5285-4df3-d62e-d723ab324fc8",
        "colab": {
          "base_uri": "https://localhost:8080/",
          "height": 34
        }
      },
      "source": [
        "cd /content/drive/My Drive/ANI/August\n"
      ],
      "execution_count": null,
      "outputs": [
        {
          "output_type": "stream",
          "text": [
            "/content/drive/My Drive/ANI/August\n"
          ],
          "name": "stdout"
        }
      ]
    },
    {
      "cell_type": "code",
      "metadata": {
        "id": "M3zH7HHODJAc",
        "outputId": "1a1a2c92-db9e-4ad4-f8c7-5dd7b284ae83",
        "colab": {
          "base_uri": "https://localhost:8080/",
          "height": 84
        }
      },
      "source": [
        "import csv\n",
        "print(\"WELCOME TO DATAMANGER\")\n",
        "print(\"1 LIST ALL \\n 2 LIST ID \\n 3 LIST NAME \\t 4 DELETE ID \\t 5 UPDATE ID \\t 6 ADD \\t 7  EXIT \") \n",
        "s1=[\"1 LIST ALL\",\"2 LIST ID\", \"3 LIST NAME\"]\n",
        "s2=[\"2 LIST ALL\"]"
      ],
      "execution_count": null,
      "outputs": [
        {
          "output_type": "stream",
          "text": [
            "WELCOME TO DATAMANGER\n",
            "1 LIST ALL \n",
            " 2 LIST ID \n",
            " 3 LIST NAME \t 4 DELETE ID \t 5 UPDATE ID \t 6 ADD \t 7  EXIT \n"
          ],
          "name": "stdout"
        }
      ]
    },
    {
      "cell_type": "code",
      "metadata": {
        "id": "AtNCt8D2rtFQ",
        "outputId": "f835f483-1dee-436c-d8af-7e7cded0c0ef",
        "colab": {
          "base_uri": "https://localhost:8080/",
          "height": 34
        }
      },
      "source": [
        ""
      ],
      "execution_count": null,
      "outputs": [
        {
          "output_type": "stream",
          "text": [
            "************************************************ * *************************************************\n"
          ],
          "name": "stdout"
        }
      ]
    },
    {
      "cell_type": "code",
      "metadata": {
        "id": "wvTRkOaJWkBM"
      },
      "source": [
        "def programmenu():\n",
        "  print('{:*^100}'.format(\" * \"))\n",
        "  column1 = [\"1 LIST ALL\",\"2 LIST ID\",\"3 LIST NAME\",\"7  EXIT\"]\n",
        "  column2 = [\"4 DELETE ID\",\"5 UPDATE ID \", \"6 ADD\",\" \"]\n",
        "  for c1, c2 in zip(column1, column2):\n",
        "    print (\"%-15s  %s\" % (c1, c2))\n",
        "  print('{:*^100}'.format(\" * \"))\n",
        "  choic=int((input(\"Enter your choice\")))\n",
        "  return choic"
      ],
      "execution_count": 7,
      "outputs": []
    },
    {
      "cell_type": "code",
      "metadata": {
        "id": "NBlwuY6Ppwvs",
        "outputId": "a113e8d3-3085-4f4d-ca93-06973562745d",
        "colab": {
          "base_uri": "https://localhost:8080/",
          "height": 151
        }
      },
      "source": [
        "programmenu()"
      ],
      "execution_count": 8,
      "outputs": [
        {
          "output_type": "stream",
          "text": [
            "************************************************ * *************************************************\n",
            "1 LIST ALL       4 DELETE ID\n",
            "2 LIST ID        5 UPDATE ID \n",
            "3 LIST NAME      6 ADD\n",
            "7  EXIT           \n",
            "************************************************ * *************************************************\n",
            "Enter your choice5\n"
          ],
          "name": "stdout"
        },
        {
          "output_type": "execute_result",
          "data": {
            "text/plain": [
              "5"
            ]
          },
          "metadata": {
            "tags": []
          },
          "execution_count": 8
        }
      ]
    },
    {
      "cell_type": "code",
      "metadata": {
        "id": "1lFDAcPZyNDj",
        "outputId": "ffc572e5-2087-45cb-f73e-16e610a823c9",
        "colab": {
          "base_uri": "https://localhost:8080/",
          "height": 134
        }
      },
      "source": [
        "loop = 1\n",
        "choice = 0\n",
        "while loop == 1:\n",
        "    choice = programmenu()\n",
        "    if choice == 1:\n",
        "      pass\n",
        "    \n",
        "    elif choice == 2:\n",
        "      pass\n",
        "    elif choice == 3:\n",
        "      pass\n",
        "    elif choice == 4:\n",
        "      pass\n",
        "    elif choice == 5:\n",
        "      pass\n",
        "    elif choice == 6:\n",
        "      pass\n",
        "    elif choice == 7:\n",
        "        loop = 0"
      ],
      "execution_count": 15,
      "outputs": [
        {
          "output_type": "stream",
          "text": [
            "************************************************ * *************************************************\n",
            "1 LIST ALL       4 DELETE ID\n",
            "2 LIST ID        5 UPDATE ID \n",
            "3 LIST NAME      6 ADD\n",
            "7  EXIT           \n",
            "************************************************ * *************************************************\n",
            "Enter your choice7\n"
          ],
          "name": "stdout"
        }
      ]
    }
  ]
}